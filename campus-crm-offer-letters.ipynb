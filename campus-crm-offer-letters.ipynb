{
 "cells": [
  {
   "cell_type": "markdown",
   "id": "74388644",
   "metadata": {
    "papermill": {
     "duration": 0.004376,
     "end_time": "2025-03-18T20:40:02.112300",
     "exception": false,
     "start_time": "2025-03-18T20:40:02.107924",
     "status": "completed"
    },
    "tags": []
   },
   "source": [
    "### Load Libraries"
   ]
  },
  {
   "cell_type": "code",
   "execution_count": 1,
   "id": "5c4e7f44",
   "metadata": {
    "execution": {
     "iopub.execute_input": "2025-03-18T20:40:02.121333Z",
     "iopub.status.busy": "2025-03-18T20:40:02.120939Z",
     "iopub.status.idle": "2025-03-18T20:40:03.189125Z",
     "shell.execute_reply": "2025-03-18T20:40:03.187986Z"
    },
    "papermill": {
     "duration": 1.074938,
     "end_time": "2025-03-18T20:40:03.191166",
     "exception": false,
     "start_time": "2025-03-18T20:40:02.116228",
     "status": "completed"
    },
    "tags": []
   },
   "outputs": [],
   "source": [
    "#load pandas, numpy\n",
    "\n",
    "import pandas as pd\n",
    "import numpy as np"
   ]
  },
  {
   "cell_type": "markdown",
   "id": "0479a1e0",
   "metadata": {
    "papermill": {
     "duration": 0.004034,
     "end_time": "2025-03-18T20:40:03.200004",
     "exception": false,
     "start_time": "2025-03-18T20:40:03.195970",
     "status": "completed"
    },
    "tags": []
   },
   "source": [
    "### Import campus dataset"
   ]
  },
  {
   "cell_type": "code",
   "execution_count": 2,
   "id": "ff250d9e",
   "metadata": {
    "execution": {
     "iopub.execute_input": "2025-03-18T20:40:03.209414Z",
     "iopub.status.busy": "2025-03-18T20:40:03.208893Z",
     "iopub.status.idle": "2025-03-18T20:40:03.382142Z",
     "shell.execute_reply": "2025-03-18T20:40:03.380992Z"
    },
    "papermill": {
     "duration": 0.180157,
     "end_time": "2025-03-18T20:40:03.384209",
     "exception": false,
     "start_time": "2025-03-18T20:40:03.204052",
     "status": "completed"
    },
    "tags": []
   },
   "outputs": [],
   "source": [
    "campus = pd.read_csv('/kaggle/input/salesforce-dataset-project/Salesforce_data_case_study.csv')"
   ]
  },
  {
   "cell_type": "markdown",
   "id": "3a41e5d7",
   "metadata": {
    "papermill": {
     "duration": 0.003413,
     "end_time": "2025-03-18T20:40:03.391754",
     "exception": false,
     "start_time": "2025-03-18T20:40:03.388341",
     "status": "completed"
    },
    "tags": []
   },
   "source": [
    "## Explore Data"
   ]
  },
  {
   "cell_type": "code",
   "execution_count": 3,
   "id": "7aeaf679",
   "metadata": {
    "execution": {
     "iopub.execute_input": "2025-03-18T20:40:03.400691Z",
     "iopub.status.busy": "2025-03-18T20:40:03.400279Z",
     "iopub.status.idle": "2025-03-18T20:40:03.456633Z",
     "shell.execute_reply": "2025-03-18T20:40:03.455160Z"
    },
    "papermill": {
     "duration": 0.063145,
     "end_time": "2025-03-18T20:40:03.458660",
     "exception": false,
     "start_time": "2025-03-18T20:40:03.395515",
     "status": "completed"
    },
    "tags": []
   },
   "outputs": [
    {
     "name": "stdout",
     "output_type": "stream",
     "text": [
      "<class 'pandas.core.frame.DataFrame'>\n",
      "RangeIndex: 12920 entries, 0 to 12919\n",
      "Data columns (total 40 columns):\n",
      " #   Column                                    Non-Null Count  Dtype  \n",
      "---  ------                                    --------------  -----  \n",
      " 0   person_id                                 12920 non-null  int64  \n",
      " 1   gender                                    12920 non-null  object \n",
      " 2   age                                       12920 non-null  int64  \n",
      " 3   race                                      12920 non-null  object \n",
      " 4   hispanic?                                 12920 non-null  object \n",
      " 5   high_school_grad?                         12920 non-null  object \n",
      " 6   ged_received?                             12920 non-null  object \n",
      " 7   first_gen_college?                        12920 non-null  object \n",
      " 8   past_college_enrollment                   12920 non-null  object \n",
      " 9   zipcode                                   12920 non-null  object \n",
      " 10  city                                      12920 non-null  object \n",
      " 11  state                                     12799 non-null  object \n",
      " 12  veteran_status                            12920 non-null  object \n",
      " 13  lead_created_date                         12916 non-null  object \n",
      " 14  hear_about_campus                         12920 non-null  object \n",
      " 15  utm_marketing_channel                     12920 non-null  object \n",
      " 16  application_start_date                    12920 non-null  object \n",
      " 17  first_meaningful_conversation_date        2965 non-null   object \n",
      " 18  application_submit_date                   12906 non-null  object \n",
      " 19  interview_date                            1954 non-null   object \n",
      " 20  async_interview_date_c                    285 non-null    object \n",
      " 21  assessment_decision                       12920 non-null  object \n",
      " 22  assessment_attempts                       12920 non-null  int64  \n",
      " 23  admit_date                                1882 non-null   object \n",
      " 24  admit_status                              1879 non-null   object \n",
      " 25  enroll_date                               911 non-null    object \n",
      " 26  was_previous_enrollment                   12920 non-null  bool   \n",
      " 27  num_phone_calls                           12920 non-null  int64  \n",
      " 28  offer_letter_status                       12920 non-null  object \n",
      " 29  offer_letter_status_date                  1102 non-null   object \n",
      " 30  fafsa_status                              12920 non-null  object \n",
      " 31  enrollment_identity_verification_status   12920 non-null  object \n",
      " 32  highschool_grad_verification_status       12920 non-null  object \n",
      " 33  Registration Status end of first term     911 non-null    object \n",
      " 34  Credits Completed end of first term       911 non-null    float64\n",
      " 35  Credits attempted in students first term  911 non-null    float64\n",
      " 36  GPA end of First Term                     501 non-null    float64\n",
      " 37  last_date_attendance                      755 non-null    object \n",
      " 38  quarter_start_date                        12920 non-null  object \n",
      " 39  quarter_end_date                          12920 non-null  object \n",
      "dtypes: bool(1), float64(3), int64(4), object(32)\n",
      "memory usage: 3.9+ MB\n"
     ]
    }
   ],
   "source": [
    "campus.info()"
   ]
  },
  {
   "cell_type": "markdown",
   "id": "1e337d03",
   "metadata": {
    "papermill": {
     "duration": 0.003697,
     "end_time": "2025-03-18T20:40:03.466723",
     "exception": false,
     "start_time": "2025-03-18T20:40:03.463026",
     "status": "completed"
    },
    "tags": []
   },
   "source": [
    "### Transform Data"
   ]
  },
  {
   "cell_type": "code",
   "execution_count": 4,
   "id": "279e3857",
   "metadata": {
    "execution": {
     "iopub.execute_input": "2025-03-18T20:40:03.476098Z",
     "iopub.status.busy": "2025-03-18T20:40:03.475714Z",
     "iopub.status.idle": "2025-03-18T20:40:03.480152Z",
     "shell.execute_reply": "2025-03-18T20:40:03.478976Z"
    },
    "papermill": {
     "duration": 0.01142,
     "end_time": "2025-03-18T20:40:03.482203",
     "exception": false,
     "start_time": "2025-03-18T20:40:03.470783",
     "status": "completed"
    },
    "tags": []
   },
   "outputs": [],
   "source": [
    "# shorten/simplfy column names"
   ]
  },
  {
   "cell_type": "code",
   "execution_count": 5,
   "id": "5419b274",
   "metadata": {
    "execution": {
     "iopub.execute_input": "2025-03-18T20:40:03.492479Z",
     "iopub.status.busy": "2025-03-18T20:40:03.492044Z",
     "iopub.status.idle": "2025-03-18T20:40:03.504040Z",
     "shell.execute_reply": "2025-03-18T20:40:03.502865Z"
    },
    "papermill": {
     "duration": 0.019071,
     "end_time": "2025-03-18T20:40:03.506152",
     "exception": false,
     "start_time": "2025-03-18T20:40:03.487081",
     "status": "completed"
    },
    "tags": []
   },
   "outputs": [],
   "source": [
    "\n",
    "campus = campus.rename(columns={\n",
    "    'application_start_date': 'date_app_start',\n",
    "    'offer_letter_status': 'status_offer_letter',\n",
    "    'utm_marketing_channel': 'utm_marketing', \n",
    "    'last_date_attendance': 'date_last_attend',\n",
    "    'offer_letter_status_date':'date_offer_letter',\n",
    "    'application_submit_date':'date_app_submit',\n",
    "    'interview_date': 'date_interview',\n",
    "    'async_interview_date_c':'date_async',\n",
    "    'admit_date':'date_admit',\n",
    "    'enroll_date':'date_enroll',\n",
    "    'quarter_start_date':'date_qtr_start',\n",
    "    'quarter_end_date':'date_qtr_end',\n",
    "    'lead_created_date': 'date_lead',\n",
    "    'first_meaningful_conversation_date': 'date_first_convo',\n",
    "    'admit_status': 'status_admit',\n",
    "    'offer_letter_status':'status_offer_letter'\n",
    "})\n",
    " "
   ]
  },
  {
   "cell_type": "code",
   "execution_count": null,
   "id": "9199c704",
   "metadata": {
    "papermill": {
     "duration": 0.003598,
     "end_time": "2025-03-18T20:40:03.513838",
     "exception": false,
     "start_time": "2025-03-18T20:40:03.510240",
     "status": "completed"
    },
    "tags": []
   },
   "outputs": [],
   "source": []
  },
  {
   "cell_type": "code",
   "execution_count": 6,
   "id": "3b40f211",
   "metadata": {
    "execution": {
     "iopub.execute_input": "2025-03-18T20:40:03.522904Z",
     "iopub.status.busy": "2025-03-18T20:40:03.522492Z",
     "iopub.status.idle": "2025-03-18T20:40:03.555692Z",
     "shell.execute_reply": "2025-03-18T20:40:03.554163Z"
    },
    "papermill": {
     "duration": 0.040107,
     "end_time": "2025-03-18T20:40:03.557873",
     "exception": false,
     "start_time": "2025-03-18T20:40:03.517766",
     "status": "completed"
    },
    "tags": []
   },
   "outputs": [
    {
     "name": "stdout",
     "output_type": "stream",
     "text": [
      "<class 'pandas.core.frame.DataFrame'>\n",
      "RangeIndex: 12920 entries, 0 to 12919\n",
      "Data columns (total 40 columns):\n",
      " #   Column                                    Non-Null Count  Dtype  \n",
      "---  ------                                    --------------  -----  \n",
      " 0   person_id                                 12920 non-null  int64  \n",
      " 1   gender                                    12920 non-null  object \n",
      " 2   age                                       12920 non-null  int64  \n",
      " 3   race                                      12920 non-null  object \n",
      " 4   hispanic?                                 12920 non-null  object \n",
      " 5   high_school_grad?                         12920 non-null  object \n",
      " 6   ged_received?                             12920 non-null  object \n",
      " 7   first_gen_college?                        12920 non-null  object \n",
      " 8   past_college_enrollment                   12920 non-null  object \n",
      " 9   zipcode                                   12920 non-null  object \n",
      " 10  city                                      12920 non-null  object \n",
      " 11  state                                     12799 non-null  object \n",
      " 12  veteran_status                            12920 non-null  object \n",
      " 13  date_lead                                 12916 non-null  object \n",
      " 14  hear_about_campus                         12920 non-null  object \n",
      " 15  utm_marketing                             12920 non-null  object \n",
      " 16  date_app_start                            12920 non-null  object \n",
      " 17  date_first_convo                          2965 non-null   object \n",
      " 18  date_app_submit                           12906 non-null  object \n",
      " 19  date_interview                            1954 non-null   object \n",
      " 20  date_async                                285 non-null    object \n",
      " 21  assessment_decision                       12920 non-null  object \n",
      " 22  assessment_attempts                       12920 non-null  int64  \n",
      " 23  date_admit                                1882 non-null   object \n",
      " 24  status_admit                              1879 non-null   object \n",
      " 25  date_enroll                               911 non-null    object \n",
      " 26  was_previous_enrollment                   12920 non-null  bool   \n",
      " 27  num_phone_calls                           12920 non-null  int64  \n",
      " 28  status_offer_letter                       12920 non-null  object \n",
      " 29  date_offer_letter                         1102 non-null   object \n",
      " 30  fafsa_status                              12920 non-null  object \n",
      " 31  enrollment_identity_verification_status   12920 non-null  object \n",
      " 32  highschool_grad_verification_status       12920 non-null  object \n",
      " 33  Registration Status end of first term     911 non-null    object \n",
      " 34  Credits Completed end of first term       911 non-null    float64\n",
      " 35  Credits attempted in students first term  911 non-null    float64\n",
      " 36  GPA end of First Term                     501 non-null    float64\n",
      " 37  date_last_attend                          755 non-null    object \n",
      " 38  date_qtr_start                            12920 non-null  object \n",
      " 39  date_qtr_end                              12920 non-null  object \n",
      "dtypes: bool(1), float64(3), int64(4), object(32)\n",
      "memory usage: 3.9+ MB\n"
     ]
    }
   ],
   "source": [
    "campus.info()"
   ]
  },
  {
   "cell_type": "code",
   "execution_count": 7,
   "id": "6c19502d",
   "metadata": {
    "execution": {
     "iopub.execute_input": "2025-03-18T20:40:03.567688Z",
     "iopub.status.busy": "2025-03-18T20:40:03.567186Z",
     "iopub.status.idle": "2025-03-18T20:40:03.577437Z",
     "shell.execute_reply": "2025-03-18T20:40:03.576120Z"
    },
    "papermill": {
     "duration": 0.017303,
     "end_time": "2025-03-18T20:40:03.579408",
     "exception": false,
     "start_time": "2025-03-18T20:40:03.562105",
     "status": "completed"
    },
    "tags": []
   },
   "outputs": [],
   "source": [
    "date_funnel = [\n",
    "    'date_offer_letter', 'date_last_attend', 'date_qtr_start', \n",
    "    'date_qtr_end', 'date_enroll', 'date_admit', 'date_lead',\n",
    "    'date_app_start', 'date_first_convo', 'date_interview',\n",
    "    'date_app_submit', 'date_async', 'status_admit', 'status_offer_letter'\n",
    "]\n",
    "\n",
    "campus_funnel = campus[date_funnel]"
   ]
  },
  {
   "cell_type": "code",
   "execution_count": 8,
   "id": "b9e93d6a",
   "metadata": {
    "execution": {
     "iopub.execute_input": "2025-03-18T20:40:03.589566Z",
     "iopub.status.busy": "2025-03-18T20:40:03.589112Z",
     "iopub.status.idle": "2025-03-18T20:40:03.597835Z",
     "shell.execute_reply": "2025-03-18T20:40:03.596442Z"
    },
    "papermill": {
     "duration": 0.016115,
     "end_time": "2025-03-18T20:40:03.599986",
     "exception": false,
     "start_time": "2025-03-18T20:40:03.583871",
     "status": "completed"
    },
    "tags": []
   },
   "outputs": [],
   "source": [
    "campus_funnel = campus[date_funnel]"
   ]
  },
  {
   "cell_type": "code",
   "execution_count": 9,
   "id": "03d8a41f",
   "metadata": {
    "execution": {
     "iopub.execute_input": "2025-03-18T20:40:03.610334Z",
     "iopub.status.busy": "2025-03-18T20:40:03.609932Z",
     "iopub.status.idle": "2025-03-18T20:40:03.627258Z",
     "shell.execute_reply": "2025-03-18T20:40:03.625962Z"
    },
    "papermill": {
     "duration": 0.025046,
     "end_time": "2025-03-18T20:40:03.629250",
     "exception": false,
     "start_time": "2025-03-18T20:40:03.604204",
     "status": "completed"
    },
    "tags": []
   },
   "outputs": [
    {
     "name": "stdout",
     "output_type": "stream",
     "text": [
      "      date_offer_letter date_last_attend date_qtr_start date_qtr_end  \\\n",
      "0                   NaN              NaN     2024-10-07   2024-12-12   \n",
      "1                   NaN              NaN     2024-10-07   2024-12-12   \n",
      "2                   NaN              NaN     2024-10-07   2024-12-12   \n",
      "3                   NaN              NaN     2024-10-07   2024-12-12   \n",
      "4                   NaN              NaN     2024-10-07   2024-12-12   \n",
      "...                 ...              ...            ...          ...   \n",
      "12915        2024-09-17       2024-11-07     2024-10-07   2024-12-12   \n",
      "12916        2024-07-24       2024-12-10     2024-10-07   2024-12-12   \n",
      "12917        2024-08-12              NaN     2024-10-07   2024-12-12   \n",
      "12918        2024-08-02       2024-11-13     2024-10-07   2024-12-12   \n",
      "12919        2024-09-27       2024-12-12     2024-10-07   2024-12-12   \n",
      "\n",
      "      date_enroll  date_admit   date_lead date_app_start date_first_convo  \\\n",
      "0             NaN         NaN  2024-06-15     2024-06-15              NaN   \n",
      "1             NaN         NaN  2024-06-15     2024-06-15              NaN   \n",
      "2             NaN         NaN  2024-06-15     2024-06-15              NaN   \n",
      "3             NaN         NaN  2024-06-15     2024-06-15              NaN   \n",
      "4             NaN         NaN  2024-06-15     2024-06-15              NaN   \n",
      "...           ...         ...         ...            ...              ...   \n",
      "12915  2024-09-17  2024-09-11  2024-09-10     2024-09-10       2024-09-11   \n",
      "12916  2024-07-24  2024-07-24  2024-07-09     2024-07-10       2024-07-22   \n",
      "12917  2024-08-12  2024-08-08  2024-08-08     2024-08-08       2024-08-13   \n",
      "12918  2024-08-05  2024-08-02  2024-07-30     2024-07-30       2024-08-01   \n",
      "12919  2024-08-13  2024-07-16  2024-07-08     2024-07-08       2024-07-11   \n",
      "\n",
      "      date_interview date_app_submit  date_async            status_admit  \\\n",
      "0                NaN             NaN         NaN                     NaN   \n",
      "1                NaN      2024-06-15         NaN                     NaN   \n",
      "2                NaN      2024-06-15         NaN                     NaN   \n",
      "3                NaN      2024-06-15         NaN                     NaN   \n",
      "4                NaN      2024-06-15         NaN                     NaN   \n",
      "...              ...             ...         ...                     ...   \n",
      "12915     2024-09-11      2024-09-10         NaN  Assessment + Interview   \n",
      "12916     2024-07-22      2024-07-10         NaN  Assessment + Interview   \n",
      "12917            NaN      2024-08-08  2024-08-08            No Interview   \n",
      "12918     2024-08-01      2024-07-30         NaN  Assessment + Interview   \n",
      "12919     2024-07-11      2024-07-08         NaN  Assessment + Interview   \n",
      "\n",
      "      status_offer_letter  \n",
      "0                not sent  \n",
      "1                not sent  \n",
      "2                not sent  \n",
      "3                not sent  \n",
      "4                not sent  \n",
      "...                   ...  \n",
      "12915            complete  \n",
      "12916            complete  \n",
      "12917            complete  \n",
      "12918            complete  \n",
      "12919            complete  \n",
      "\n",
      "[12920 rows x 14 columns]\n"
     ]
    }
   ],
   "source": [
    "print(campus_funnel)"
   ]
  },
  {
   "cell_type": "markdown",
   "id": "55fb556d",
   "metadata": {
    "papermill": {
     "duration": 0.003883,
     "end_time": "2025-03-18T20:40:03.637398",
     "exception": false,
     "start_time": "2025-03-18T20:40:03.633515",
     "status": "completed"
    },
    "tags": []
   },
   "source": [
    " ### Create 2 datasets  "
   ]
  },
  {
   "cell_type": "code",
   "execution_count": 10,
   "id": "d97a6308",
   "metadata": {
    "execution": {
     "iopub.execute_input": "2025-03-18T20:40:03.647982Z",
     "iopub.status.busy": "2025-03-18T20:40:03.647571Z",
     "iopub.status.idle": "2025-03-18T20:40:03.655930Z",
     "shell.execute_reply": "2025-03-18T20:40:03.654735Z"
    },
    "papermill": {
     "duration": 0.015674,
     "end_time": "2025-03-18T20:40:03.657923",
     "exception": false,
     "start_time": "2025-03-18T20:40:03.642249",
     "status": "completed"
    },
    "tags": []
   },
   "outputs": [],
   "source": [
    "# 2 separate df - one where status_offer_letter has value, and one without.\n",
    "\n",
    "\n",
    "campus_with_offer = campus_funnel[campus_funnel['status_offer_letter'].notna()]\n",
    "\n",
    "\n",
    "campus_empty_offer = campus_funnel[campus_funnel['status_offer_letter'].isna()]\n"
   ]
  },
  {
   "cell_type": "code",
   "execution_count": 11,
   "id": "fc9bb5f8",
   "metadata": {
    "execution": {
     "iopub.execute_input": "2025-03-18T20:40:03.667905Z",
     "iopub.status.busy": "2025-03-18T20:40:03.667402Z",
     "iopub.status.idle": "2025-03-18T20:40:03.728725Z",
     "shell.execute_reply": "2025-03-18T20:40:03.727477Z"
    },
    "papermill": {
     "duration": 0.06872,
     "end_time": "2025-03-18T20:40:03.730899",
     "exception": false,
     "start_time": "2025-03-18T20:40:03.662179",
     "status": "completed"
    },
    "tags": []
   },
   "outputs": [],
   "source": [
    "# Save to csv\n",
    "\n",
    "campus_with_offer.to_csv('campus_with_offer.csv', index = False) \n",
    "campus_empty_offer.to_csv('campus_empty_offer.csv', index = False)"
   ]
  }
 ],
 "metadata": {
  "kaggle": {
   "accelerator": "none",
   "dataSources": [
    {
     "datasetId": 6757011,
     "sourceId": 10875059,
     "sourceType": "datasetVersion"
    }
   ],
   "dockerImageVersionId": 30918,
   "isGpuEnabled": false,
   "isInternetEnabled": true,
   "language": "python",
   "sourceType": "notebook"
  },
  "kernelspec": {
   "display_name": "Python 3",
   "language": "python",
   "name": "python3"
  },
  "language_info": {
   "codemirror_mode": {
    "name": "ipython",
    "version": 3
   },
   "file_extension": ".py",
   "mimetype": "text/x-python",
   "name": "python",
   "nbconvert_exporter": "python",
   "pygments_lexer": "ipython3",
   "version": "3.10.12"
  },
  "papermill": {
   "default_parameters": {},
   "duration": 5.191062,
   "end_time": "2025-03-18T20:40:04.357047",
   "environment_variables": {},
   "exception": null,
   "input_path": "__notebook__.ipynb",
   "output_path": "__notebook__.ipynb",
   "parameters": {},
   "start_time": "2025-03-18T20:39:59.165985",
   "version": "2.6.0"
  }
 },
 "nbformat": 4,
 "nbformat_minor": 5
}
